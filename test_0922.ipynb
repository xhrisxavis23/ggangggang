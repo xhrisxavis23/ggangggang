{
 "cells": [
  {
   "cell_type": "markdown",
   "id": "c3a0bd5c",
   "metadata": {},
   "source": [
    "# python\n",
    "#### print문"
   ]
  },
  {
   "cell_type": "code",
   "execution_count": 9,
   "id": "aa25e2c7",
   "metadata": {},
   "outputs": [
    {
     "name": "stdout",
     "output_type": "stream",
     "text": [
      "hello world\n"
     ]
    }
   ],
   "source": [
    "print(\"hello world\")"
   ]
  },
  {
   "cell_type": "code",
   "execution_count": 10,
   "id": "037be9ab",
   "metadata": {},
   "outputs": [
    {
     "name": "stdout",
     "output_type": "stream",
     "text": [
      "3\n"
     ]
    }
   ],
   "source": [
    "print(1+2)"
   ]
  },
  {
   "cell_type": "markdown",
   "id": "bc165344",
   "metadata": {},
   "source": [
    "#### 조건문"
   ]
  },
  {
   "cell_type": "code",
   "execution_count": 11,
   "id": "3aca6a6f",
   "metadata": {},
   "outputs": [
    {
     "name": "stdout",
     "output_type": "stream",
     "text": [
      "x\n"
     ]
    }
   ],
   "source": [
    "x = 100\n",
    "y = 10\n",
    "\n",
    "if x > y:                   \n",
    "    print('x')                \n",
    "else:                       \n",
    "    print('y')   "
   ]
  },
  {
   "cell_type": "markdown",
   "id": "48f8aeda",
   "metadata": {},
   "source": [
    "#### 반복문"
   ]
  },
  {
   "cell_type": "code",
   "execution_count": 12,
   "id": "f2f98be7",
   "metadata": {
    "scrolled": true
   },
   "outputs": [
    {
     "name": "stdout",
     "output_type": "stream",
     "text": [
      "one\n",
      "two\n",
      "three\n"
     ]
    }
   ],
   "source": [
    "test_list = ['one', 'two', 'three'] \n",
    "for i in test_list: \n",
    "    print(i)"
   ]
  },
  {
   "cell_type": "markdown",
   "id": "32eb9703",
   "metadata": {},
   "source": [
    "#### List"
   ]
  },
  {
   "cell_type": "code",
   "execution_count": 13,
   "id": "b1df6d67",
   "metadata": {},
   "outputs": [
    {
     "data": {
      "text/plain": [
       "[1, 2, 3, ['a', 'b', 'c']]"
      ]
     },
     "execution_count": 13,
     "metadata": {},
     "output_type": "execute_result"
    }
   ],
   "source": [
    "a = [1, 2, 3, ['a', 'b', 'c']]\n",
    "a"
   ]
  },
  {
   "cell_type": "code",
   "execution_count": 14,
   "id": "c38b118e",
   "metadata": {},
   "outputs": [
    {
     "data": {
      "text/plain": [
       "'c'"
      ]
     },
     "execution_count": 14,
     "metadata": {},
     "output_type": "execute_result"
    }
   ],
   "source": [
    "a[-1][2]"
   ]
  },
  {
   "cell_type": "markdown",
   "id": "fc575c49",
   "metadata": {},
   "source": [
    "#### Dictionary"
   ]
  },
  {
   "cell_type": "code",
   "execution_count": 15,
   "id": "48880083",
   "metadata": {},
   "outputs": [
    {
     "data": {
      "text/plain": [
       "'Harry Potter'"
      ]
     },
     "execution_count": 15,
     "metadata": {},
     "output_type": "execute_result"
    }
   ],
   "source": [
    "book = {'name':'Harry Potter', 'author':'J.K.Rowling', 'price':15000}\n",
    "book['name']"
   ]
  },
  {
   "cell_type": "code",
   "execution_count": 16,
   "id": "af760a83",
   "metadata": {},
   "outputs": [
    {
     "name": "stdout",
     "output_type": "stream",
     "text": [
      "dict_keys(['name', 'author', 'price'])\n",
      "dict_values(['Harry Potter', 'J.K.Rowling', 15000])\n",
      "dict_items([('name', 'Harry Potter'), ('author', 'J.K.Rowling'), ('price', 15000)])\n"
     ]
    }
   ],
   "source": [
    "print(book.keys())\n",
    "print(book.values())\n",
    "print(book.items())"
   ]
  },
  {
   "cell_type": "markdown",
   "id": "516885d4",
   "metadata": {},
   "source": [
    "***\n",
    "# jupyter notebook\n",
    "## 주요 단축키"
   ]
  },
  {
   "cell_type": "markdown",
   "id": "1f2b3e23",
   "metadata": {},
   "source": [
    "### 1. 셀 선택 모드 (파란색)\n",
    "a : 해당 셀 위에 새로운 셀 추가  \n",
    "b : 해당 셀 아래에 새로운 셀 추가  \n",
    "c : 해당 셀 복사하기   \n",
    "v : 해당 셀 붙여넣기   \n",
    "x : 해당 셀 잘라내기    \n",
    "dd : 해당 셀 삭제하기   \n",
    "m : Markdown으로 변경     \n",
    "y : 코드입력상태로 변경    \n",
    "enter : 입력 모드로 전환    \n",
    "h : 전체 단축키 확인"
   ]
  },
  {
   "cell_type": "markdown",
   "id": "bb47bc7b",
   "metadata": {},
   "source": [
    "### 2. 입력 모드 (초록색)\n",
    "ctrl + enter : 해당 셀 실행    \n",
    "shift + enter : 해당 셀 실행 후 아래 셀로 이동 (없으면 새로운 셀 추가)    \n",
    "alt + enter : 해당 셀 실행 후 바로 아래 새로운 셀 추가    \n",
    "esc : 셀 선택 모드로 전환"
   ]
  },
  {
   "cell_type": "markdown",
   "id": "83f77a86",
   "metadata": {},
   "source": [
    "***\n",
    "# Markdown\n",
    "\n",
    "일반 텍스트 기반의 경량 마크업 언어. 코드에 대한 설명을 달 때 유용.\n",
    "\n",
    "* Headings\n",
    "* Bold / Italic\n",
    "* Blockquotes\n",
    "* Lists\n",
    "* Horizontal Lines\n",
    "* Line Breaks\n",
    "* Links\n",
    "* etc"
   ]
  },
  {
   "cell_type": "markdown",
   "id": "302e1fa7",
   "metadata": {},
   "source": [
    "Headings:\n",
    "\n",
    "# H1\n",
    "## H2\n",
    "### H3\n",
    "#### H4\n",
    "##### H5\n",
    "###### H6\n",
    "####### H7 (6개까지만 가능)\n"
   ]
  },
  {
   "cell_type": "markdown",
   "id": "cee462d0",
   "metadata": {},
   "source": [
    "Bold / Italic:\n",
    "\n",
    "- Bold : add two **asterisks** or __underscores__\n",
    "\n",
    "- Italic : add one *asterisk* or _underscore_\n",
    "\n",
    "- Bold and Italic : add three ***asterisks*** or ___underscores___\n",
    "\n",
    "- Combined emphasis : use **asterisks and _underscores_**"
   ]
  },
  {
   "cell_type": "markdown",
   "id": "ee3b0da7",
   "metadata": {},
   "source": [
    "Blockquotes:\n",
    "\n",
    "> Add a > in front of a paragraph.\n",
    ">> Add a >> in front of the paragraph to nest."
   ]
  },
  {
   "cell_type": "markdown",
   "id": "d802db6c",
   "metadata": {},
   "source": [
    "Lists:\n",
    "\n",
    "Ordered lists\n",
    "1. First item\n",
    "2. Second item\n",
    "    1. ordered sub item\n",
    "3. Third item\n",
    "    * unordered sub item\n",
    "\n",
    "Unordered lists\n",
    "* Use asterisk\n",
    "- or minus(-) sign\n",
    "+ or plus(+) sign"
   ]
  },
  {
   "cell_type": "markdown",
   "id": "6cc22528",
   "metadata": {},
   "source": [
    "Horizontal Lines:\n",
    "\n",
    "Use three or more asterisks (***), dashes (---) or underscores (___) on a line by themselves.\n",
    "\n",
    "***\n",
    "----\n",
    "________________\n",
    "<hr>"
   ]
  },
  {
   "cell_type": "markdown",
   "id": "7ea450cc",
   "metadata": {},
   "source": [
    "Line Breaks:\n",
    "\n",
    "End a line with two or more spaces\n",
    "\n",
    "First line  \n",
    "Second line<br>\n",
    "Third line"
   ]
  },
  {
   "cell_type": "markdown",
   "id": "c002a527",
   "metadata": {},
   "source": [
    "Links:\n",
    "\n",
    "https://eclass.dongguk.edu/\n",
    "\n",
    "<https://eclass.dongguk.edu/>\n",
    "\n",
    "[Eclass](https://eclass.dongguk.edu/)"
   ]
  },
  {
   "cell_type": "code",
   "execution_count": null,
   "id": "486b8ca1",
   "metadata": {},
   "outputs": [],
   "source": []
  },
  {
   "cell_type": "code",
   "execution_count": null,
   "id": "8503a8e0",
   "metadata": {},
   "outputs": [],
   "source": []
  },
  {
   "cell_type": "code",
   "execution_count": null,
   "id": "73256563",
   "metadata": {},
   "outputs": [],
   "source": []
  }
 ],
 "metadata": {
  "kernelspec": {
   "display_name": "Python 3 (ipykernel)",
   "language": "python",
   "name": "python3"
  },
  "language_info": {
   "codemirror_mode": {
    "name": "ipython",
    "version": 3
   },
   "file_extension": ".py",
   "mimetype": "text/x-python",
   "name": "python",
   "nbconvert_exporter": "python",
   "pygments_lexer": "ipython3",
   "version": "3.9.13"
  }
 },
 "nbformat": 4,
 "nbformat_minor": 5
}
